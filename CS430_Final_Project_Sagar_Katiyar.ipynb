{
 "cells": [
  {
   "cell_type": "code",
   "execution_count": null,
   "id": "35d5eb37",
   "metadata": {},
   "outputs": [],
   "source": [
    "# read input files\n",
    "with open('input.txt') as f:\n",
    "    n = int(f.readline())\n",
    "    items = []\n",
    "    for i in range(n):\n",
    "        code, amount, price = f.readline().split()\n",
    "        items.append((code, int(amount), float(price)))\n",
    "\n",
    "with open('promotions.txt') as f:\n",
    "    num_promotions = int(f.readline())\n",
    "    promotions = []\n",
    "    for i in range(num_promotions):\n",
    "        promo = {}\n",
    "        num_items = int(f.readline())\n",
    "        for j in range(num_items):\n",
    "            code, amount = f.readline().split()\n",
    "            promo[code] = int(amount)\n",
    "        promo_price = float(f.readline())\n",
    "        promotions.append((promo, promo_price))\n",
    "\n",
    "# initialize optimal payment\n",
    "optimal_payment = sum(amount * price for code, amount, price in items)\n",
    "\n",
    "# try each promotion and update optimal payment\n",
    "for promo, promo_price in promotions:\n",
    "    promo_items = {code: 0 for code in promo}\n",
    "    for code, amount, price in items:\n",
    "        if code in promo:\n",
    "            promo_items[code] += amount\n",
    "        else:\n",
    "            promo_items[code] = amount\n",
    "    payment = sum(promo_items[code] * price for code, _, price in items)\n",
    "    for code, amount in promo.items():\n",
    "        payment -= min(amount, promo_items[code]) * price\n",
    "    payment += promo_price\n",
    "    optimal_payment = min(optimal_payment, payment)\n",
    "\n",
    "# write output file\n",
    "with open('output.txt', 'w') as f:\n",
    "    f.write(' '.join(str(amount) for _, amount, _ in items) + '\\n')\n",
    "    f.write(f'{optimal_payment:.2f}\\n')\n"
   ]
  }
 ],
 "metadata": {
  "kernelspec": {
   "display_name": "Python 3 (ipykernel)",
   "language": "python",
   "name": "python3"
  },
  "language_info": {
   "codemirror_mode": {
    "name": "ipython",
    "version": 3
   },
   "file_extension": ".py",
   "mimetype": "text/x-python",
   "name": "python",
   "nbconvert_exporter": "python",
   "pygments_lexer": "ipython3",
   "version": "3.9.5"
  }
 },
 "nbformat": 4,
 "nbformat_minor": 5
}
